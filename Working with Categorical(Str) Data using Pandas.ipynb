{
 "cells": [
  {
   "cell_type": "code",
   "execution_count": 1,
   "id": "ed2e0074-51b1-4b8c-aa18-ae5de0957278",
   "metadata": {
    "tags": []
   },
   "outputs": [
    {
     "name": "stdout",
     "output_type": "stream",
     "text": [
      "        A            B      C         D            E\n",
      "0  Female  Middle-aged  Rural    Single      College\n",
      "1    Male        Young  Rural    Single  High school\n",
      "2  Female          Old  Rural   Married  High school\n",
      "3    Male        Young  Rural  Divorced     Graduate\n",
      "4  Female          Old  Urban   Married      College\n"
     ]
    }
   ],
   "source": [
    "import pandas as pd\n",
    "import numpy as np\n",
    "\n",
    "# Create a data frame with 50 rows\n",
    "rows = 50\n",
    "df = pd.DataFrame({'A': np.random.choice(['Male', 'Female'], rows),\n",
    "                   'B': np.random.choice(['Young', 'Middle-aged', 'Old'], rows),\n",
    "                   'C': np.random.choice(['Urban', 'Rural'], rows),\n",
    "                   'D': np.random.choice(['Single', 'Married', 'Divorced'], rows),\n",
    "                   'E': np.random.choice(['High school', 'College', 'Graduate'], rows)})\n",
    "\n",
    "# Convert columns to categorical\n",
    "df['A'] = df['A'].astype('category')\n",
    "df['B'] = df['B'].astype('category')\n",
    "df['C'] = df['C'].astype('category')\n",
    "df['D'] = df['D'].astype('category')\n",
    "df['E'] = df['E'].astype('category')\n",
    "\n",
    "print(df.head())\n"
   ]
  },
  {
   "cell_type": "code",
   "execution_count": 22,
   "id": "af640e3f-0e0a-4a6d-9a98-4aacae7fdfa3",
   "metadata": {
    "tags": []
   },
   "outputs": [],
   "source": [
    "df=df.astype('category')"
   ]
  },
  {
   "cell_type": "code",
   "execution_count": 23,
   "id": "d1c5fd90-1b62-442f-b0a5-05c37b1f0860",
   "metadata": {
    "tags": []
   },
   "outputs": [
    {
     "name": "stdout",
     "output_type": "stream",
     "text": [
      "<class 'pandas.core.frame.DataFrame'>\n",
      "RangeIndex: 50 entries, 0 to 49\n",
      "Data columns (total 5 columns):\n",
      " #   Column  Non-Null Count  Dtype   \n",
      "---  ------  --------------  -----   \n",
      " 0   A       50 non-null     category\n",
      " 1   B       50 non-null     category\n",
      " 2   C       50 non-null     category\n",
      " 3   D       50 non-null     category\n",
      " 4   E       50 non-null     category\n",
      "dtypes: category(5)\n",
      "memory usage: 1022.0 bytes\n"
     ]
    }
   ],
   "source": [
    "df.info()"
   ]
  },
  {
   "cell_type": "code",
   "execution_count": 24,
   "id": "33d7e98c-abea-4acb-b124-1c68be9ce179",
   "metadata": {
    "tags": []
   },
   "outputs": [],
   "source": [
    "df=df.astype('string')"
   ]
  },
  {
   "cell_type": "code",
   "execution_count": 25,
   "id": "efcded38-1969-43b1-b454-c2613241dce7",
   "metadata": {
    "tags": []
   },
   "outputs": [
    {
     "name": "stdout",
     "output_type": "stream",
     "text": [
      "<class 'pandas.core.frame.DataFrame'>\n",
      "RangeIndex: 50 entries, 0 to 49\n",
      "Data columns (total 5 columns):\n",
      " #   Column  Non-Null Count  Dtype \n",
      "---  ------  --------------  ----- \n",
      " 0   A       50 non-null     string\n",
      " 1   B       50 non-null     string\n",
      " 2   C       50 non-null     string\n",
      " 3   D       50 non-null     string\n",
      " 4   E       50 non-null     string\n",
      "dtypes: string(5)\n",
      "memory usage: 2.1 KB\n"
     ]
    }
   ],
   "source": [
    "df.info()"
   ]
  },
  {
   "cell_type": "code",
   "execution_count": 28,
   "id": "34d9a765-0c6f-4604-a71c-4ef02cfb7143",
   "metadata": {
    "tags": []
   },
   "outputs": [
    {
     "data": {
      "text/plain": [
       "0     female\n",
       "1       male\n",
       "2     female\n",
       "3       male\n",
       "4     female\n",
       "5     female\n",
       "6       male\n",
       "7       male\n",
       "8     female\n",
       "9     female\n",
       "10    female\n",
       "11    female\n",
       "12    female\n",
       "13      male\n",
       "14      male\n",
       "15      male\n",
       "16      male\n",
       "17    female\n",
       "18      male\n",
       "19      male\n",
       "20      male\n",
       "21      male\n",
       "22    female\n",
       "23      male\n",
       "24    female\n",
       "25    female\n",
       "26      male\n",
       "27      male\n",
       "28    female\n",
       "29      male\n",
       "30    female\n",
       "31      male\n",
       "32      male\n",
       "33    female\n",
       "34      male\n",
       "35      male\n",
       "36      male\n",
       "37    female\n",
       "38      male\n",
       "39    female\n",
       "40      male\n",
       "41      male\n",
       "42    female\n",
       "43    female\n",
       "44    female\n",
       "45    female\n",
       "46    female\n",
       "47    female\n",
       "48    female\n",
       "49      male\n",
       "Name: A, dtype: string"
      ]
     },
     "execution_count": 28,
     "metadata": {},
     "output_type": "execute_result"
    }
   ],
   "source": [
    "df[\"A\"].str.lower()"
   ]
  },
  {
   "cell_type": "code",
   "execution_count": 29,
   "id": "27d021a6-eaee-45f4-810d-0b67b7415075",
   "metadata": {
    "tags": []
   },
   "outputs": [
    {
     "data": {
      "text/plain": [
       "0     FEMALE\n",
       "1       MALE\n",
       "2     FEMALE\n",
       "3       MALE\n",
       "4     FEMALE\n",
       "5     FEMALE\n",
       "6       MALE\n",
       "7       MALE\n",
       "8     FEMALE\n",
       "9     FEMALE\n",
       "10    FEMALE\n",
       "11    FEMALE\n",
       "12    FEMALE\n",
       "13      MALE\n",
       "14      MALE\n",
       "15      MALE\n",
       "16      MALE\n",
       "17    FEMALE\n",
       "18      MALE\n",
       "19      MALE\n",
       "20      MALE\n",
       "21      MALE\n",
       "22    FEMALE\n",
       "23      MALE\n",
       "24    FEMALE\n",
       "25    FEMALE\n",
       "26      MALE\n",
       "27      MALE\n",
       "28    FEMALE\n",
       "29      MALE\n",
       "30    FEMALE\n",
       "31      MALE\n",
       "32      MALE\n",
       "33    FEMALE\n",
       "34      MALE\n",
       "35      MALE\n",
       "36      MALE\n",
       "37    FEMALE\n",
       "38      MALE\n",
       "39    FEMALE\n",
       "40      MALE\n",
       "41      MALE\n",
       "42    FEMALE\n",
       "43    FEMALE\n",
       "44    FEMALE\n",
       "45    FEMALE\n",
       "46    FEMALE\n",
       "47    FEMALE\n",
       "48    FEMALE\n",
       "49      MALE\n",
       "Name: A, dtype: string"
      ]
     },
     "execution_count": 29,
     "metadata": {},
     "output_type": "execute_result"
    }
   ],
   "source": [
    "df[\"A\"].str.upper()"
   ]
  },
  {
   "cell_type": "code",
   "execution_count": 30,
   "id": "ed4cc403-891b-4930-a603-d7dc93bf27c5",
   "metadata": {
    "tags": []
   },
   "outputs": [
    {
     "data": {
      "text/plain": [
       "0     6\n",
       "1     4\n",
       "2     6\n",
       "3     4\n",
       "4     6\n",
       "5     6\n",
       "6     4\n",
       "7     4\n",
       "8     6\n",
       "9     6\n",
       "10    6\n",
       "11    6\n",
       "12    6\n",
       "13    4\n",
       "14    4\n",
       "15    4\n",
       "16    4\n",
       "17    6\n",
       "18    4\n",
       "19    4\n",
       "20    4\n",
       "21    4\n",
       "22    6\n",
       "23    4\n",
       "24    6\n",
       "25    6\n",
       "26    4\n",
       "27    4\n",
       "28    6\n",
       "29    4\n",
       "30    6\n",
       "31    4\n",
       "32    4\n",
       "33    6\n",
       "34    4\n",
       "35    4\n",
       "36    4\n",
       "37    6\n",
       "38    4\n",
       "39    6\n",
       "40    4\n",
       "41    4\n",
       "42    6\n",
       "43    6\n",
       "44    6\n",
       "45    6\n",
       "46    6\n",
       "47    6\n",
       "48    6\n",
       "49    4\n",
       "Name: A, dtype: Int64"
      ]
     },
     "execution_count": 30,
     "metadata": {},
     "output_type": "execute_result"
    }
   ],
   "source": [
    "df[\"A\"].str.len()"
   ]
  },
  {
   "cell_type": "code",
   "execution_count": null,
   "id": "43d1b11d-46d0-4252-ba0b-5f29f0533ebe",
   "metadata": {},
   "outputs": [],
   "source": []
  }
 ],
 "metadata": {
  "kernelspec": {
   "display_name": "Python 3 (ipykernel)",
   "language": "python",
   "name": "python3"
  },
  "language_info": {
   "codemirror_mode": {
    "name": "ipython",
    "version": 3
   },
   "file_extension": ".py",
   "mimetype": "text/x-python",
   "name": "python",
   "nbconvert_exporter": "python",
   "pygments_lexer": "ipython3",
   "version": "3.11.1"
  }
 },
 "nbformat": 4,
 "nbformat_minor": 5
}
